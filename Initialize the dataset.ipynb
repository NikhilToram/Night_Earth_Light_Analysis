{
 "cells": [
  {
   "cell_type": "markdown",
   "source": [
    "## This notebook helps you to initialize the project environment for the actual analysis"
   ],
   "metadata": {
    "collapsed": false
   }
  },
  {
   "cell_type": "markdown",
   "source": [
    "## Packages needed\n",
    "### I would recommend creating a new virtual env for theis project as some of its requirements can conflict with others\n",
    "### You need to install Rasterio and gdal packages refer to the instructions at https://rasterio.readthedocs.io/en/stable/installation.html\n",
    "### the other following packaeds can be installed through the command line.\n",
    "Fiona==1.9.3\n",
    "geographiclib==2.0\n",
    "geopandas==0.12.2\n",
    "geopy==2.3.0\n",
    "ipython==8.13.1\n",
    "matplotlib==3.7.1\n",
    "numpy==1.24.3\n",
    "pandas==2.0.1\n",
    "pyogrio==0.6.0\n",
    "\n"
   ],
   "metadata": {
    "collapsed": false
   }
  },
  {
   "cell_type": "markdown",
   "source": [
    "### Map clipping:\n",
    "##### You can skip this step in case you already by have the clipped monthly and annual image files for germany and india, do remember to unzip them.\n",
    "\n",
    "#### 1. Download the annual [V21] and monthly files from https://eogdata.mines.edu/products/vnl/\n",
    "#### 2. unzip and place the annual files in the \"[project directory]/input data/annual\" directory\n",
    "#### 3. unzip and place the monthly files in the \"[project directory]/input data/monthly\" directory\n",
    "#### 4. unzip the shape files in the input data directory\n",
    "\n",
    "##### Having done the above step you can run the following code"
   ],
   "metadata": {
    "collapsed": false
   }
  },
  {
   "cell_type": "code",
   "execution_count": null,
   "outputs": [],
   "source": [
    "import main"
   ],
   "metadata": {
    "collapsed": false
   }
  },
  {
   "cell_type": "code",
   "execution_count": null,
   "outputs": [],
   "source": [
    "main.map_clipper('annual', 'germany')"
   ],
   "metadata": {
    "collapsed": false
   }
  },
  {
   "cell_type": "code",
   "execution_count": null,
   "outputs": [],
   "source": [
    "main.map_clipper('annual', 'india')"
   ],
   "metadata": {
    "collapsed": false
   }
  },
  {
   "cell_type": "code",
   "execution_count": null,
   "outputs": [],
   "source": [
    "main.map_clipper('monthly', 'germany')"
   ],
   "metadata": {
    "collapsed": false
   }
  },
  {
   "cell_type": "code",
   "execution_count": null,
   "outputs": [],
   "source": [
    "main.map_clipper('monthly', 'india')"
   ],
   "metadata": {
    "collapsed": false
   }
  },
  {
   "cell_type": "markdown",
   "source": [
    "##### Now you should have the annual and monthly clipped images for the respective countries in the output directory, If you face any errors make sure you have the shape files in the input directory."
   ],
   "metadata": {
    "collapsed": false
   }
  },
  {
   "cell_type": "markdown",
   "source": [
    "## Point sampling and CSV creation\n",
    "#### 1. Having completed the above step run the following code the to create the point wise raster value CSVs. note that this might take a while [like couple of hours] especially for a country like india, you can skip a particular country like india in this step, and it would only affect a couple of analysis for demonstration purposes.\n",
    "#### 2. Zip the sampling points data in the input data directory"
   ],
   "metadata": {
    "collapsed": false
   }
  },
  {
   "cell_type": "code",
   "execution_count": null,
   "outputs": [],
   "source": [
    "main.sampling('annual', 'germany')"
   ],
   "metadata": {
    "collapsed": false
   }
  },
  {
   "cell_type": "code",
   "execution_count": null,
   "outputs": [],
   "source": [
    "main.sampling('annual', 'india')"
   ],
   "metadata": {
    "collapsed": false
   }
  }
 ],
 "metadata": {
  "kernelspec": {
   "display_name": "Python 3",
   "language": "python",
   "name": "python3"
  },
  "language_info": {
   "codemirror_mode": {
    "name": "ipython",
    "version": 2
   },
   "file_extension": ".py",
   "mimetype": "text/x-python",
   "name": "python",
   "nbconvert_exporter": "python",
   "pygments_lexer": "ipython2",
   "version": "2.7.6"
  }
 },
 "nbformat": 4,
 "nbformat_minor": 0
}
